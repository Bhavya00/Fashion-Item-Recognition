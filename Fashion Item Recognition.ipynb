{
 "cells": [
  {
   "cell_type": "markdown",
   "metadata": {},
   "source": [
    "# Fashion Item Recognition using Fashion_MNIST Data set"
   ]
  },
  {
   "cell_type": "markdown",
   "metadata": {},
   "source": [
    "### Importing Libraries"
   ]
  },
  {
   "cell_type": "code",
   "execution_count": 14,
   "metadata": {},
   "outputs": [],
   "source": [
    "import tensorflow as tf\n",
    "import matplotlib.pyplot as plt\n",
    "from keras.utils import np_utils\n",
    "from keras.models import Sequential"
   ]
  },
  {
   "cell_type": "markdown",
   "metadata": {},
   "source": [
    "### Loading Dataset"
   ]
  },
  {
   "cell_type": "code",
   "execution_count": 15,
   "metadata": {},
   "outputs": [],
   "source": [
    "(x_train,y_train),(x_test,y_test)=tf.keras.datasets.fashion_mnist.load_data()"
   ]
  },
  {
   "cell_type": "code",
   "execution_count": 16,
   "metadata": {},
   "outputs": [
    {
     "data": {
      "image/png": "[encoded data removed]",
      "text/plain": [
       "<Figure size 432x288 with 4 Axes>"
      ]
     },
     "metadata": {
      "needs_background": "light"
     },
     "output_type": "display_data"
    }
   ],
   "source": [
    "for i in range(4):\n",
    "    plt.subplot(220+1+i)\n",
    "    plt.imshow(x_train[i])\n",
    "    "
   ]
  },
  {
   "cell_type": "code",
   "execution_count": 17,
   "metadata": {},
   "outputs": [],
   "source": [
    "x_train=x_train.reshape((x_train.shape[0],28,28,1)).astype(\"float32\")\n",
    "x_test=x_test.reshape((x_test.shape[0],28,28,1)).astype(\"float32\")\n",
    "# Normalise the Image\n",
    "x_train=x_train/255\n",
    "x_test=x_test/255\n",
    "    "
   ]
  },
  {
   "cell_type": "markdown",
   "metadata": {},
   "source": [
    "## One Hot Encoding on Target Class"
   ]
  },
  {
   "cell_type": "code",
   "execution_count": 18,
   "metadata": {},
   "outputs": [
    {
     "name": "stdout",
     "output_type": "stream",
     "text": [
      "Epoch 1/10\n",
      "938/938 [==============================] - 24s 21ms/step - loss: 0.7908 - accuracy: 0.7214 - val_loss: 0.3960 - val_accuracy: 0.8606\n",
      "Epoch 2/10\n",
      "938/938 [==============================] - 19s 20ms/step - loss: 0.3947 - accuracy: 0.8555 - val_loss: 0.3487 - val_accuracy: 0.8751\n",
      "Epoch 3/10\n",
      "938/938 [==============================] - 18s 19ms/step - loss: 0.3376 - accuracy: 0.8768 - val_loss: 0.3160 - val_accuracy: 0.8886\n",
      "Epoch 4/10\n",
      "938/938 [==============================] - 19s 20ms/step - loss: 0.3069 - accuracy: 0.8879 - val_loss: 0.3117 - val_accuracy: 0.8856\n",
      "Epoch 5/10\n",
      "938/938 [==============================] - 18s 20ms/step - loss: 0.2901 - accuracy: 0.8918 - val_loss: 0.2895 - val_accuracy: 0.8924\n",
      "Epoch 6/10\n",
      "938/938 [==============================] - 18s 20ms/step - loss: 0.2732 - accuracy: 0.8990 - val_loss: 0.2835 - val_accuracy: 0.8973\n",
      "Epoch 7/10\n",
      "938/938 [==============================] - 19s 20ms/step - loss: 0.2570 - accuracy: 0.9026 - val_loss: 0.2707 - val_accuracy: 0.9045\n",
      "Epoch 8/10\n",
      "938/938 [==============================] - 19s 20ms/step - loss: 0.2434 - accuracy: 0.9086 - val_loss: 0.2851 - val_accuracy: 0.8937\n",
      "Epoch 9/10\n",
      "938/938 [==============================] - 19s 20ms/step - loss: 0.2388 - accuracy: 0.9103 - val_loss: 0.2547 - val_accuracy: 0.9093\n",
      "Epoch 10/10\n",
      "938/938 [==============================] - 19s 20ms/step - loss: 0.2259 - accuracy: 0.9162 - val_loss: 0.2623 - val_accuracy: 0.9023\n",
      "CNN Error : 9.77%\n"
     ]
    }
   ],
   "source": [
    "y_train=np_utils.to_categorical(y_train)\n",
    "y_test=np_utils.to_categorical(y_test)\n",
    "num_classes=y_test.shape[1]\n",
    "\n",
    "def cnn_model():\n",
    "    model=Sequential()\n",
    "    model.add(tf.keras.layers.Conv2D(32,(5,5),activation='relu'))\n",
    "    model.add(tf.keras.layers.MaxPooling2D(pool_size=(2,2)))\n",
    "    model.add(tf.keras.layers.Conv2D(16,(3,3),activation='relu'))\n",
    "    model.add(tf.keras.layers.MaxPooling2D(pool_size=(2,2)))\n",
    "    model.add(tf.keras.layers.Dropout(0.2))\n",
    "    model.add(tf.keras.layers.Flatten())\n",
    "    model.add(tf.keras.layers.Dense(128,activation=\"relu\"))\n",
    "    model.add(tf.keras.layers.Dense(num_classes,activation=\"sigmoid\"))\n",
    "    \n",
    "    # Compile the Model\n",
    "    model.compile(loss=\"categorical_crossentropy\",optimizer=\"adam\", metrics=[\"accuracy\"])\n",
    "    \n",
    "    return model\n",
    "\n",
    "model=cnn_model()\n",
    "# Train the model\n",
    "model.fit(x_train,y_train, validation_data=(x_test,y_test),epochs=10,batch_size=64)\n",
    "\n",
    "# save the model\n",
    "model.save(\"FashionMNIST.h5\")\n",
    "\n",
    "#Final Evaluation of the model\n",
    "err= model.evaluate(x_test,y_test,verbose=0)\n",
    "print(\"CNN Error : %.2f%%\" % (100-err[1]*100))\n",
    "\n",
    "    \n",
    "    "
   ]
  },
  {
   "cell_type": "markdown",
   "metadata": {},
   "source": [
    "### Prediction"
   ]
  },
  {
   "cell_type": "code",
   "execution_count": 30,
   "metadata": {},
   "outputs": [
    {
     "name": "stdout",
     "output_type": "stream",
     "text": [
      "The Item is Shirt\n"
     ]
    }
   ],
   "source": [
    "results={\n",
    "    0:\"T-shirt/top\",\n",
    "    1:\"Trouser\",\n",
    "    2:\"Pullover\",\n",
    "    3:\"Dress\",\n",
    "    4:\"Coat\",\n",
    "    5:\"Sandal\",\n",
    "    6:\"Shirt\",\n",
    "    7:\"Sneacker\",\n",
    "    8:\"Bag\",\n",
    "    9:\"AnkleBoot\"\n",
    "    \n",
    "}\n",
    "from keras.preprocessing import image\n",
    "import numpy as np\n",
    "\n",
    "def load(filename):\n",
    "    img = image.load_img(filename, grayscale=True, target_size=(28, 28))\n",
    "    img=np.expand_dims(img, axis=0)\n",
    "    img=np.array(img)\n",
    "    img = img.reshape(1, 28, 28, 1).astype('float32')\n",
    "    img = img / 255.0\n",
    "    \n",
    "    return img\n",
    "\n",
    "\n",
    "\n",
    "img = load('FMNIST_sample_images/tshirt.jpeg')\n",
    "pred=model.predict_classes([img])[0]\n",
    "print(\"The Item is\", results[pred])\n",
    "\n"
   ]
  },
  {
   "cell_type": "code",
   "execution_count": null,
   "metadata": {},
   "outputs": [],
   "source": []
  },
  {
   "cell_type": "code",
   "execution_count": null,
   "metadata": {},
   "outputs": [],
   "source": []
  }
 ],
 "metadata": {
  "kernelspec": {
   "display_name": "Python 3",
   "language": "python",
   "name": "python3"
  },
  "language_info": {
   "codemirror_mode": {
    "name": "ipython",
    "version": 3
   },
   "file_extension": ".py",
   "mimetype": "text/x-python",
   "name": "python",
   "nbconvert_exporter": "python",
   "pygments_lexer": "ipython3",
   "version": "3.8.5"
  }
 },
 "nbformat": 4,
 "nbformat_minor": 4
}
